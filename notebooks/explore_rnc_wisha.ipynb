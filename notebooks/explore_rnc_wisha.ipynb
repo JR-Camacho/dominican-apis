{
 "cells": [
  {
   "cell_type": "code",
   "execution_count": 34,
   "metadata": {},
   "outputs": [],
   "source": [
    "import zipfile\n",
    "import os"
   ]
  },
  {
   "cell_type": "code",
   "execution_count": 53,
   "metadata": {},
   "outputs": [],
   "source": [
    "# Definir las rutas\n",
    "zip_path = '../downloads/dgii/rnc/all/DGII_RNC.zip'\n",
    "extract_folder = '../data/dgii/rnc/'"
   ]
  },
  {
   "cell_type": "code",
   "execution_count": 54,
   "metadata": {},
   "outputs": [
    {
     "name": "stdout",
     "output_type": "stream",
     "text": [
      "Archivo extraído con éxito.\n"
     ]
    }
   ],
   "source": [
    "# Crear la carpeta de destino si no existe\n",
    "if not os.path.exists(extract_folder):\n",
    "    os.makedirs(extract_folder)\n",
    "\n",
    "# Extraer el archivo ZIP\n",
    "with zipfile.ZipFile(zip_path, 'r') as zip_ref:\n",
    "    zip_ref.extractall(extract_folder)\n",
    "\n",
    "print(\"Archivo extraído con éxito.\")"
   ]
  },
  {
   "cell_type": "code",
   "execution_count": 55,
   "metadata": {},
   "outputs": [
    {
     "name": "stdout",
     "output_type": "stream",
     "text": [
      "Archivos extraídos: ['TMP']\n"
     ]
    }
   ],
   "source": [
    "# Listar los archivos en la carpeta 'data'\n",
    "extracted_files = os.listdir(extract_folder)\n",
    "print(\"Archivos extraídos:\", extracted_files)"
   ]
  },
  {
   "cell_type": "code",
   "execution_count": 56,
   "metadata": {},
   "outputs": [],
   "source": [
    "# Definir la ruta del archivo TXT\n",
    "txt_file_path = os.path.join(extract_folder, 'TMP/DGII_RNC.TXT')"
   ]
  },
  {
   "cell_type": "code",
   "execution_count": 58,
   "metadata": {},
   "outputs": [
    {
     "name": "stderr",
     "output_type": "stream",
     "text": [
      "C:\\Users\\Ile\\AppData\\Local\\Temp\\ipykernel_11888\\2346865927.py:7: DtypeWarning: Columns (0) have mixed types. Specify dtype option on import or set low_memory=False.\n",
      "  df = pd.read_csv(txt_file_path, delimiter='|', encoding='latin1')  # Usar el delimitador '|'\n"
     ]
    },
    {
     "name": "stdout",
     "output_type": "stream",
     "text": [
      "DataFrame cargado con éxito.\n",
      "   10400227509 BOYNE                          TEJEDA LORENZO Unnamed: 2  \\\n",
      "0   4700182985                           JUANA FELIX SANCHEZ        NaN   \n",
      "1   4400264109                             DEURY BEATO GOMEZ        NaN   \n",
      "2  40225809322                      DANIEL ALMONTE FERNANDEZ        NaN   \n",
      "3   4700198569                          CIRILO OVALLES ARIAS        NaN   \n",
      "4   1700219395                         ENRIQUE GALVAN LEBRON        NaN   \n",
      "\n",
      "   ELABORACIÓN DE CERVEZA, BEBIDA     .1  .2  .3  13/02/2017  SUSPENDIDO  \\\n",
      "0  VENTA AL POR MENOR DE MATERIAL                 29/12/2016  SUSPENDIDO   \n",
      "1  SERVICIOS DE TRANSMISIÓN DE RA                 07/04/2017  SUSPENDIDO   \n",
      "2  SERVICIOS RELACIONADOS CON LA                  10/04/2017  SUSPENDIDO   \n",
      "3  SERVICIOS DE DEPURACIÓN DE AGU                 06/10/2008  SUSPENDIDO   \n",
      "4  SERV. PRESTADOS POR PROFESIONA                 06/03/2017  SUSPENDIDO   \n",
      "\n",
      "   NORMAL  \n",
      "0  NORMAL  \n",
      "1  NORMAL  \n",
      "2  NORMAL  \n",
      "3  NORMAL  \n",
      "4  NORMAL  \n"
     ]
    }
   ],
   "source": [
    "import pandas as pd\n",
    "\n",
    "# Verificar si el archivo existe\n",
    "if os.path.isfile(txt_file_path):\n",
    "    # Leer el archivo TXT en un DataFrame usando una codificación adecuada y el delimitador '|'\n",
    "    try:\n",
    "        df = pd.read_csv(txt_file_path, delimiter='|', encoding='latin1')  # Usar el delimitador '|'\n",
    "        print(\"DataFrame cargado con éxito.\")\n",
    "        print(df.head())  # Mostrar las primeras filas del DataFrame\n",
    "    except UnicodeDecodeError as e:\n",
    "        print(f\"Error de decodificación: {e}\")\n",
    "else:\n",
    "    print(f\"El archivo {txt_file_path} no existe.\")\n"
   ]
  }
 ],
 "metadata": {
  "kernelspec": {
   "display_name": "venv",
   "language": "python",
   "name": "python3"
  },
  "language_info": {
   "codemirror_mode": {
    "name": "ipython",
    "version": 3
   },
   "file_extension": ".py",
   "mimetype": "text/x-python",
   "name": "python",
   "nbconvert_exporter": "python",
   "pygments_lexer": "ipython3",
   "version": "3.12.4"
  }
 },
 "nbformat": 4,
 "nbformat_minor": 2
}
