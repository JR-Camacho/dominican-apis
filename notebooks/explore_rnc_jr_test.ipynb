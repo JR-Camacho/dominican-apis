{
 "cells": [
  {
   "cell_type": "markdown",
   "metadata": {},
   "source": [
    "Exploración de datos de RNC"
   ]
  },
  {
   "cell_type": "markdown",
   "metadata": {},
   "source": [
    "\n",
    "El objetivo de este notebook es importar el archivo ZIP que esta contenido en la carpeta \"downloads/dgii/rnc/all\" y tranformarla, extratyendo el contenido del documento de texto que contiene los RNC de las empresas registradas en la DGII.\n",
    "\n",
    "Pasos logicos:\n",
    "1 - Importar el archivo contenido en la carpeta \"downloads/dgii/rnc/all\" que lleva por nombre \"DGII_RNC.zip\".\n",
    "2 - Extraer su contenido y almacenar el resultado en la carpeta \"data\" en la raiz del directorio. \n",
    "3 - Importar el set de datos que resulta de la extracción y que ya estara en la carpeta \"data\".\n",
    "4 - Convertir el el sed de datos que estara en formato txt en un dataframe de pandas. "
   ]
  },
  {
   "cell_type": "code",
   "execution_count": 2,
   "metadata": {},
   "outputs": [],
   "source": [
    "#Import libraires \n",
    "import zipfile\n",
    "import os\n",
    "import pandas as pd"
   ]
  },
  {
   "cell_type": "code",
   "execution_count": 19,
   "metadata": {},
   "outputs": [
    {
     "name": "stdout",
     "output_type": "stream",
     "text": [
      "Extrayendo archivos de ../downloads/dgii/rnc/all/DGII_RNC.zip\n",
      "Archivos extraídos: ['TMP']\n"
     ]
    }
   ],
   "source": [
    "# Ruta del archivo ZIP que quieres importar\n",
    "zip_file_path = '../downloads/dgii/rnc/all/DGII_RNC.zip'\n",
    "\n",
    "print(\"Extrayendo archivos de\", zip_file_path)\n",
    "\n",
    "# Directorio donde quieres extraer los archivos\n",
    "extract_to_path = '../data/dgii/rnc'\n",
    "\n",
    "# Asegurarse de que el directorio de extracción existe\n",
    "os.makedirs(extract_to_path, exist_ok=True)\n",
    "\n",
    "# Abrir el archivo ZIP en modo lectura\n",
    "with zipfile.ZipFile(zip_file_path, 'r') as zip_ref:\n",
    "    # Extraer todo el contenido en el directorio especificado\n",
    "    zip_ref.extractall(extract_to_path)\n",
    "\n",
    "# Ahora puedes trabajar con los archivos extraídos como necesites\n",
    "# Por ejemplo, listar los archivos extraídos\n",
    "extracted_files = os.listdir(extract_to_path)\n",
    "print(\"Archivos extraídos:\", extracted_files)"
   ]
  },
  {
   "cell_type": "code",
   "execution_count": 35,
   "metadata": {},
   "outputs": [
    {
     "name": "stdout",
     "output_type": "stream",
     "text": [
      "DataFrame cargado con éxito.\n",
      "   10400227509 BOYNE                          TEJEDA LORENZO Unnamed: 2  \\\n",
      "0   4700182985                           JUANA FELIX SANCHEZ        NaN   \n",
      "1   4400264109                             DEURY BEATO GOMEZ        NaN   \n",
      "2  40225809322                      DANIEL ALMONTE FERNANDEZ        NaN   \n",
      "3   4700198569                          CIRILO OVALLES ARIAS        NaN   \n",
      "4   1700219395                         ENRIQUE GALVAN LEBRON        NaN   \n",
      "\n",
      "   ELABORACIÓN DE CERVEZA, BEBIDA     .1  .2  .3  13/02/2017  SUSPENDIDO  \\\n",
      "0  VENTA AL POR MENOR DE MATERIAL                 29/12/2016  SUSPENDIDO   \n",
      "1  SERVICIOS DE TRANSMISIÓN DE RA                 07/04/2017  SUSPENDIDO   \n",
      "2  SERVICIOS RELACIONADOS CON LA                  10/04/2017  SUSPENDIDO   \n",
      "3  SERVICIOS DE DEPURACIÓN DE AGU                 06/10/2008  SUSPENDIDO   \n",
      "4  SERV. PRESTADOS POR PROFESIONA                 06/03/2017  SUSPENDIDO   \n",
      "\n",
      "   NORMAL  \n",
      "0  NORMAL  \n",
      "1  NORMAL  \n",
      "2  NORMAL  \n",
      "3  NORMAL  \n",
      "4  NORMAL  \n"
     ]
    },
    {
     "name": "stderr",
     "output_type": "stream",
     "text": [
      "/var/folders/_n/7lgnxq2s2gs_s1zqbfrw7x6h0000gn/T/ipykernel_69824/3287014996.py:5: DtypeWarning: Columns (0) have mixed types. Specify dtype option on import or set low_memory=False.\n",
      "  df = pd.read_csv(extract_to_path + '/TMP/DGII_RNC.TXT', delimiter='|', encoding='latin1')  # Usar el delimitador '|'\n"
     ]
    }
   ],
   "source": [
    "# Verificar si el archivo existe\n",
    "if os.path.isfile(extract_to_path + '/TMP/DGII_RNC.TXT'):\n",
    "    # Leer el archivo TXT en un DataFrame usando una codificación adecuada y el delimitador '|'\n",
    "    try:\n",
    "        df = pd.read_csv(extract_to_path + '/TMP/DGII_RNC.TXT', delimiter='|', encoding='latin1')  # Usar el delimitador '|'\n",
    "        print(\"DataFrame cargado con éxito.\")\n",
    "        print(df.head())  # Mostrar las primeras filas del DataFrame\n",
    "    except UnicodeDecodeError as e:\n",
    "        print(f\"Error de decodificación: {e}\")\n",
    "else:\n",
    "    print(f\"El archivo {extract_to_path + '/TMP/DGII_RNC.TXT'} no existe.\")"
   ]
  },
  {
   "cell_type": "code",
   "execution_count": 36,
   "metadata": {},
   "outputs": [
    {
     "name": "stdout",
     "output_type": "stream",
     "text": [
      "<class 'pandas.core.frame.DataFrame'>\n",
      "RangeIndex: 749358 entries, 0 to 749357\n",
      "Data columns (total 11 columns):\n",
      " #   Column                                         Non-Null Count   Dtype \n",
      "---  ------                                         --------------   ----- \n",
      " 0   10400227509                                    749346 non-null  object\n",
      " 1   BOYNE                          TEJEDA LORENZO  749355 non-null  object\n",
      " 2   Unnamed: 2                                     385109 non-null  object\n",
      " 3   ELABORACIÓN DE CERVEZA, BEBIDA                 725162 non-null  object\n",
      " 4                                                  749324 non-null  object\n",
      " 5    .1                                            749324 non-null  object\n",
      " 6    .2                                            749324 non-null  object\n",
      " 7    .3                                            749324 non-null  object\n",
      " 8   13/02/2017                                     681952 non-null  object\n",
      " 9   SUSPENDIDO                                     749303 non-null  object\n",
      " 10  NORMAL                                         749303 non-null  object\n",
      "dtypes: object(11)\n",
      "memory usage: 62.9+ MB\n"
     ]
    }
   ],
   "source": [
    "#Data\n",
    "df.info()"
   ]
  },
  {
   "cell_type": "code",
   "execution_count": 37,
   "metadata": {},
   "outputs": [
    {
     "name": "stdout",
     "output_type": "stream",
     "text": [
      "    Cédula/RNC       Nombre/Razón Social Nombre Comercial  \\\n",
      "0   4700182985       JUANA FELIX SANCHEZ              NaN   \n",
      "1   4400264109         DEURY BEATO GOMEZ              NaN   \n",
      "2  40225809322  DANIEL ALMONTE FERNANDEZ              NaN   \n",
      "3   4700198569      CIRILO OVALLES ARIAS              NaN   \n",
      "4   1700219395     ENRIQUE GALVAN LEBRON              NaN   \n",
      "\n",
      "                        Categoría Fecha Afiliación      Estado  \\\n",
      "0  VENTA AL POR MENOR DE MATERIAL       29/12/2016  SUSPENDIDO   \n",
      "1  SERVICIOS DE TRANSMISIÓN DE RA       07/04/2017  SUSPENDIDO   \n",
      "2  SERVICIOS RELACIONADOS CON LA        10/04/2017  SUSPENDIDO   \n",
      "3  SERVICIOS DE DEPURACIÓN DE AGU       06/10/2008  SUSPENDIDO   \n",
      "4  SERV. PRESTADOS POR PROFESIONA       06/03/2017  SUSPENDIDO   \n",
      "\n",
      "  Régimen de pagos  \n",
      "0           NORMAL  \n",
      "1           NORMAL  \n",
      "2           NORMAL  \n",
      "3           NORMAL  \n",
      "4           NORMAL  \n"
     ]
    }
   ],
   "source": [
    "# Asignar los nuevos nombres a las columnas del DataFrame\n",
    "df.columns = ['Cédula/RNC', 'Nombre/Razón Social', 'Nombre Comercial', 'Categoría', 'Borrar1', 'Borrar2', 'Borrar3', 'Borrar4', 'Fecha Afiliación', 'Estado', 'Régimen de pagos']\n",
    "\n",
    "# Eliminar columnas ignoradas\n",
    "df.drop(['Borrar1', 'Borrar2', 'Borrar3', 'Borrar4'], axis=1, inplace=True)\n",
    "\n",
    "# Ahora df tiene las columnas renombradas\n",
    "print(df.head())"
   ]
  },
  {
   "cell_type": "code",
   "execution_count": 38,
   "metadata": {},
   "outputs": [
    {
     "name": "stdout",
     "output_type": "stream",
     "text": [
      "<class 'pandas.core.frame.DataFrame'>\n",
      "RangeIndex: 749358 entries, 0 to 749357\n",
      "Data columns (total 7 columns):\n",
      " #   Column               Non-Null Count   Dtype \n",
      "---  ------               --------------   ----- \n",
      " 0   Cédula/RNC           749346 non-null  object\n",
      " 1   Nombre/Razón Social  749355 non-null  object\n",
      " 2   Nombre Comercial     385109 non-null  object\n",
      " 3   Categoría            725162 non-null  object\n",
      " 4   Fecha Afiliación     681952 non-null  object\n",
      " 5   Estado               749303 non-null  object\n",
      " 6   Régimen de pagos     749303 non-null  object\n",
      "dtypes: object(7)\n",
      "memory usage: 40.0+ MB\n"
     ]
    }
   ],
   "source": [
    "df.info()"
   ]
  },
  {
   "cell_type": "code",
   "execution_count": 39,
   "metadata": {},
   "outputs": [
    {
     "data": {
      "text/plain": [
       "<bound method DataFrame.info of          Cédula/RNC                  Nombre/Razón Social  \\\n",
       "0        4700182985                  JUANA FELIX SANCHEZ   \n",
       "1        4400264109                    DEURY BEATO GOMEZ   \n",
       "2       40225809322             DANIEL ALMONTE FERNANDEZ   \n",
       "3        4700198569                 CIRILO OVALLES ARIAS   \n",
       "4        1700219395                ENRIQUE GALVAN LEBRON   \n",
       "...             ...                                  ...   \n",
       "749353    130333718        HERMOSA CONSTRUCTORA C POR A    \n",
       "749354    132033452  CONSTRUCCIONES MODERNAS MODCONS SRL   \n",
       "749355    132124286                   INTERCALZADOS EIRL   \n",
       "749356    102009589                    ZEP CARIBBEAN INC   \n",
       "749357    131171494               ALBANILERIA GOMEZ EIRL   \n",
       "\n",
       "                       Nombre Comercial                       Categoría  \\\n",
       "0                                   NaN  VENTA AL POR MENOR DE MATERIAL   \n",
       "1                                   NaN  SERVICIOS DE TRANSMISIÓN DE RA   \n",
       "2                                   NaN  SERVICIOS RELACIONADOS CON LA    \n",
       "3                                   NaN  SERVICIOS DE DEPURACIÓN DE AGU   \n",
       "4                                   NaN  SERV. PRESTADOS POR PROFESIONA   \n",
       "...                                 ...                             ...   \n",
       "749353                              NaN  CONSTR. REFORMA Y REPARACIÓN D   \n",
       "749354  CONSTRUCCIONES MODERNAS MODCONS  CONSTR. REFORMA Y REPARACIÓN D   \n",
       "749355                    INTERCALZADOS  VENTA AL POR MAYOR DE CALZADO    \n",
       "749356                              NaN  FABRICACIÓN  DE PRODUCTOS DE C   \n",
       "749357                ALBANILERIA GOMEZ  OBRAS DE INGENIERÍA CIVIL N.C.   \n",
       "\n",
       "       Fecha Afiliación        Estado Régimen de pagos  \n",
       "0            29/12/2016    SUSPENDIDO           NORMAL  \n",
       "1            07/04/2017    SUSPENDIDO           NORMAL  \n",
       "2            10/04/2017    SUSPENDIDO           NORMAL  \n",
       "3            06/10/2008    SUSPENDIDO           NORMAL  \n",
       "4            06/03/2017    SUSPENDIDO           NORMAL  \n",
       "...                 ...           ...              ...  \n",
       "749353       09/11/2006  DADO DE BAJA           NORMAL  \n",
       "749354       01/10/2019        ACTIVO           NORMAL  \n",
       "749355       24/07/2020        ACTIVO           NORMAL  \n",
       "749356              NaN  DADO DE BAJA           NORMAL  \n",
       "749357       02/07/2014    SUSPENDIDO           NORMAL  \n",
       "\n",
       "[749358 rows x 7 columns]>"
      ]
     },
     "execution_count": 39,
     "metadata": {},
     "output_type": "execute_result"
    }
   ],
   "source": [
    "df.info"
   ]
  },
  {
   "cell_type": "code",
   "execution_count": 40,
   "metadata": {},
   "outputs": [
    {
     "data": {
      "text/plain": [
       "Cédula/RNC                 12\n",
       "Nombre/Razón Social         3\n",
       "Nombre Comercial       364249\n",
       "Categoría               24196\n",
       "Fecha Afiliación        67406\n",
       "Estado                     55\n",
       "Régimen de pagos           55\n",
       "dtype: int64"
      ]
     },
     "execution_count": 40,
     "metadata": {},
     "output_type": "execute_result"
    }
   ],
   "source": [
    "df.isnull().sum()"
   ]
  },
  {
   "cell_type": "code",
   "execution_count": 5,
   "metadata": {},
   "outputs": [
    {
     "name": "stdout",
     "output_type": "stream",
     "text": [
      "El archivo ZIP existe.\n"
     ]
    }
   ],
   "source": [
    "if os.path.exists(\"../downloads/dgii/rnc/all/DGII_RNC.zip\"):\n",
    "    # if os.path.exists(\"../downloads/dgii/rnc/all/DGII_RNC.zip\"): \n",
    "    print(\"El archivo ZIP existe.\")\n",
    "else:\n",
    "    print(\"El archivo ZIP no existe.\")\n"
   ]
  }
 ],
 "metadata": {
  "kernelspec": {
   "display_name": "venv",
   "language": "python",
   "name": "python3"
  },
  "language_info": {
   "codemirror_mode": {
    "name": "ipython",
    "version": 3
   },
   "file_extension": ".py",
   "mimetype": "text/x-python",
   "name": "python",
   "nbconvert_exporter": "python",
   "pygments_lexer": "ipython3",
   "version": "3.11.4"
  }
 },
 "nbformat": 4,
 "nbformat_minor": 2
}
