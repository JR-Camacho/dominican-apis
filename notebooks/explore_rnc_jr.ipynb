{
 "cells": [
  {
   "cell_type": "markdown",
   "metadata": {},
   "source": [
    "Exploración de datos de RNC"
   ]
  },
  {
   "cell_type": "markdown",
   "metadata": {},
   "source": [
    "\n",
    "El objetivo de este notebook es importar el archivo ZIP que esta contenido en la carpeta \"downloads/dgii/rnc/all\" y tranformarla, extratyendo el contenido del documento de texto que contiene los RNC de las empresas registradas en la DGII.\n",
    "\n",
    "Pasos logicos:\n",
    "1 - Importar el archivo contenido en la carpeta \"downloads/dgii/rnc/all\" que lleva por nombre \"DGII_RNC.zip\".\n",
    "2 - Extraer su contenido y almacenar el resultado en la carpeta \"data\" en la raiz del directorio. \n",
    "3 - Importar el set de datos que resulta de la extracción y que ya estara en la carpeta \"data\".\n",
    "4 - Convertir el el sed de datos que estara en formato txt en un dataframe de pandas. "
   ]
  },
  {
   "cell_type": "code",
   "execution_count": null,
   "metadata": {},
   "outputs": [],
   "source": []
  }
 ],
 "metadata": {
  "language_info": {
   "name": "python"
  }
 },
 "nbformat": 4,
 "nbformat_minor": 2
}
