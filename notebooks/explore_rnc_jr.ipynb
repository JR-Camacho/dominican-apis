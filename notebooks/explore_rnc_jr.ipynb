{
 "cells": [
  {
   "cell_type": "markdown",
   "metadata": {},
   "source": [
    "Exploración de datos de RNC"
   ]
  },
  {
   "cell_type": "markdown",
   "metadata": {},
   "source": [
    "\n",
    "El objetivo de este notebook es importar el archivo ZIP que esta contenido en la carpeta \"downloads/dgii/rnc/all\" y tranformarla, extratyendo el contenido del documento de texto que contiene los RNC de las empresas registradas en la DGII.\n",
    "\n",
    "Pasos logicos:\n",
    "1 - Importar el archivo contenido en la carpeta \"downloads/dgii/rnc/all\" que lleva por nombre \"DGII_RNC.zip\".\n",
    "2 - Extraer su contenido y almacenar el resultado en la carpeta \"data\" en la raiz del directorio. \n",
    "3 - Importar el set de datos que resulta de la extracción y que ya estara en la carpeta \"data\".\n",
    "4 - Convertir el el sed de datos que estara en formato txt en un dataframe de pandas. "
   ]
  },
  {
   "cell_type": "code",
   "execution_count": 8,
   "metadata": {},
   "outputs": [
    {
     "name": "stdout",
     "output_type": "stream",
     "text": [
      "Extrayendo archivos de ../downloads/dgii/rnc/all/DGII_RNC.zip\n",
      "Archivos extraídos: ['TMP']\n"
     ]
    }
   ],
   "source": [
    "import zipfile\n",
    "import os\n",
    "\n",
    "# Ruta del archivo ZIP que quieres importar\n",
    "zip_file_path = '../downloads/dgii/rnc/all/DGII_RNC.zip'\n",
    "\n",
    "print(\"Extrayendo archivos de\", zip_file_path)\n",
    "\n",
    "# Directorio donde quieres extraer los archivos\n",
    "extract_to_path = '../data/dgii/rnc'\n",
    "\n",
    "# Asegurarse de que el directorio de extracción existe\n",
    "os.makedirs(extract_to_path, exist_ok=True)\n",
    "\n",
    "# Abrir el archivo ZIP en modo lectura\n",
    "with zipfile.ZipFile(zip_file_path, 'r') as zip_ref:\n",
    "    # Extraer todo el contenido en el directorio especificado\n",
    "    zip_ref.extractall(extract_to_path)\n",
    "\n",
    "# Ahora puedes trabajar con los archivos extraídos como necesites\n",
    "# Por ejemplo, listar los archivos extraídos\n",
    "extracted_files = os.listdir(extract_to_path)\n",
    "print(\"Archivos extraídos:\", extracted_files)"
   ]
  },
  {
   "cell_type": "code",
   "execution_count": null,
   "metadata": {},
   "outputs": [],
   "source": []
  }
 ],
 "metadata": {
  "kernelspec": {
   "display_name": "venv",
   "language": "python",
   "name": "python3"
  },
  "language_info": {
   "codemirror_mode": {
    "name": "ipython",
    "version": 3
   },
   "file_extension": ".py",
   "mimetype": "text/x-python",
   "name": "python",
   "nbconvert_exporter": "python",
   "pygments_lexer": "ipython3",
   "version": "3.11.4"
  }
 },
 "nbformat": 4,
 "nbformat_minor": 2
}
