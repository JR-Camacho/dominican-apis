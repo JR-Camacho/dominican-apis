{
 "cells": [
  {
   "cell_type": "code",
   "execution_count": null,
   "metadata": {},
   "outputs": [],
   "source": [
    "import zipfile\n",
    "import os\n",
    "import pandas as pd\n",
    "\n",
    "# Paso 1: Extraer el contenido del archivo ZIP y almacenarlo en la carpeta 'data'\n",
    "zip_path = '../downloads/dgii/rnc/all/DGII_RNC.zip'\n",
    "extract_path = '../data/dgii/rnc'\n",
    "\n",
    "if not os.path.exists(extract_path):\n",
    "    os.makedirs(extract_path)\n",
    "\n",
    "with zipfile.ZipFile(zip_path, 'r') as zip_ref:\n",
    "    zip_ref.extractall(extract_path)\n",
    "\n",
    "\n",
    "# Definir la ruta del archivo TXT\n",
    "txt_file_path = os.path.join(extract_path, 'TMP/DGII_RNC.TXT')\n",
    "\n",
    "print('Archivo extraído en:', extract_path)\n",
    "\n",
    "# Verificar si el archivo existe\n",
    "if os.path.isfile(txt_file_path):\n",
    "    # Leer el archivo TXT en un DataFrame usando una codificación adecuada y el delimitador '|'\n",
    "    try:\n",
    "        df = pd.read_csv(txt_file_path, delimiter='|', encoding='latin1')  # Usar el delimitador '|'\n",
    "        print(\"DataFrame cargado con éxito.\")\n",
    "        print(df.head())  # Mostrar las primeras filas del DataFrame\n",
    "    except UnicodeDecodeError as e:\n",
    "        print(f\"Error de decodificación: {e}\")\n",
    "else:\n",
    "    print(f\"El archivo {txt_file_path} no existe.\")\n"
   ]
  }
 ],
 "metadata": {
  "kernelspec": {
   "display_name": "venv",
   "language": "python",
   "name": "python3"
  },
  "language_info": {
   "codemirror_mode": {
    "name": "ipython",
    "version": 3
   },
   "file_extension": ".py",
   "mimetype": "text/x-python",
   "name": "python",
   "nbconvert_exporter": "python",
   "pygments_lexer": "ipython3",
   "version": "3.12.4"
  }
 },
 "nbformat": 4,
 "nbformat_minor": 2
}
